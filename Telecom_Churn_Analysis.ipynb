{
  "cells": [
    {
      "cell_type": "markdown",
      "metadata": {
        "id": "view-in-github",
        "colab_type": "text"
      },
      "source": [
        "<a href=\"https://colab.research.google.com/github/Harsshhhh/Telecom-Churn-Analysis/blob/main/Telecom_Churn_Analysis.ipynb\" target=\"_parent\"><img src=\"https://colab.research.google.com/assets/colab-badge.svg\" alt=\"Open In Colab\"/></a>"
      ]
    },
    {
      "cell_type": "code",
      "execution_count": null,
      "id": "c93336b8",
      "metadata": {
        "id": "c93336b8"
      },
      "outputs": [],
      "source": [
        "import numpy as np\n",
        "import pandas as pd\n",
        "import matplotlib.pyplot as plt\n",
        "import seaborn as sns\n",
        "plt.style.use('ggplot')"
      ]
    },
    {
      "cell_type": "code",
      "execution_count": null,
      "id": "9ad77045",
      "metadata": {
        "id": "9ad77045"
      },
      "outputs": [],
      "source": [
        "telecom = pd.read_csv(\"Telecom Churn.csv\")"
      ]
    },
    {
      "cell_type": "code",
      "execution_count": null,
      "id": "1b2c84b6",
      "metadata": {
        "id": "1b2c84b6",
        "outputId": "6be18d29-23d6-4095-bfe1-384fbf1c308c"
      },
      "outputs": [
        {
          "data": {
            "text/html": [
              "<div>\n",
              "<style scoped>\n",
              "    .dataframe tbody tr th:only-of-type {\n",
              "        vertical-align: middle;\n",
              "    }\n",
              "\n",
              "    .dataframe tbody tr th {\n",
              "        vertical-align: top;\n",
              "    }\n",
              "\n",
              "    .dataframe thead th {\n",
              "        text-align: right;\n",
              "    }\n",
              "</style>\n",
              "<table border=\"1\" class=\"dataframe\">\n",
              "  <thead>\n",
              "    <tr style=\"text-align: right;\">\n",
              "      <th></th>\n",
              "      <th>State</th>\n",
              "      <th>Account length</th>\n",
              "      <th>Area code</th>\n",
              "      <th>International plan</th>\n",
              "      <th>Voice mail plan</th>\n",
              "      <th>Number vmail messages</th>\n",
              "      <th>Total day minutes</th>\n",
              "      <th>Total day calls</th>\n",
              "      <th>Total day charge</th>\n",
              "      <th>Total eve minutes</th>\n",
              "      <th>Total eve calls</th>\n",
              "      <th>Total eve charge</th>\n",
              "      <th>Total night minutes</th>\n",
              "      <th>Total night calls</th>\n",
              "      <th>Total night charge</th>\n",
              "      <th>Total intl minutes</th>\n",
              "      <th>Total intl calls</th>\n",
              "      <th>Total intl charge</th>\n",
              "      <th>Customer service calls</th>\n",
              "      <th>Churn</th>\n",
              "    </tr>\n",
              "  </thead>\n",
              "  <tbody>\n",
              "    <tr>\n",
              "      <th>0</th>\n",
              "      <td>KS</td>\n",
              "      <td>128</td>\n",
              "      <td>415</td>\n",
              "      <td>No</td>\n",
              "      <td>Yes</td>\n",
              "      <td>25</td>\n",
              "      <td>265.1</td>\n",
              "      <td>110</td>\n",
              "      <td>45.07</td>\n",
              "      <td>197.4</td>\n",
              "      <td>99</td>\n",
              "      <td>16.78</td>\n",
              "      <td>244.7</td>\n",
              "      <td>91</td>\n",
              "      <td>11.01</td>\n",
              "      <td>10.0</td>\n",
              "      <td>3</td>\n",
              "      <td>2.70</td>\n",
              "      <td>1</td>\n",
              "      <td>False</td>\n",
              "    </tr>\n",
              "    <tr>\n",
              "      <th>1</th>\n",
              "      <td>OH</td>\n",
              "      <td>107</td>\n",
              "      <td>415</td>\n",
              "      <td>No</td>\n",
              "      <td>Yes</td>\n",
              "      <td>26</td>\n",
              "      <td>161.6</td>\n",
              "      <td>123</td>\n",
              "      <td>27.47</td>\n",
              "      <td>195.5</td>\n",
              "      <td>103</td>\n",
              "      <td>16.62</td>\n",
              "      <td>254.4</td>\n",
              "      <td>103</td>\n",
              "      <td>11.45</td>\n",
              "      <td>13.7</td>\n",
              "      <td>3</td>\n",
              "      <td>3.70</td>\n",
              "      <td>1</td>\n",
              "      <td>False</td>\n",
              "    </tr>\n",
              "    <tr>\n",
              "      <th>2</th>\n",
              "      <td>NJ</td>\n",
              "      <td>137</td>\n",
              "      <td>415</td>\n",
              "      <td>No</td>\n",
              "      <td>No</td>\n",
              "      <td>0</td>\n",
              "      <td>243.4</td>\n",
              "      <td>114</td>\n",
              "      <td>41.38</td>\n",
              "      <td>121.2</td>\n",
              "      <td>110</td>\n",
              "      <td>10.30</td>\n",
              "      <td>162.6</td>\n",
              "      <td>104</td>\n",
              "      <td>7.32</td>\n",
              "      <td>12.2</td>\n",
              "      <td>5</td>\n",
              "      <td>3.29</td>\n",
              "      <td>0</td>\n",
              "      <td>False</td>\n",
              "    </tr>\n",
              "    <tr>\n",
              "      <th>3</th>\n",
              "      <td>OH</td>\n",
              "      <td>84</td>\n",
              "      <td>408</td>\n",
              "      <td>Yes</td>\n",
              "      <td>No</td>\n",
              "      <td>0</td>\n",
              "      <td>299.4</td>\n",
              "      <td>71</td>\n",
              "      <td>50.90</td>\n",
              "      <td>61.9</td>\n",
              "      <td>88</td>\n",
              "      <td>5.26</td>\n",
              "      <td>196.9</td>\n",
              "      <td>89</td>\n",
              "      <td>8.86</td>\n",
              "      <td>6.6</td>\n",
              "      <td>7</td>\n",
              "      <td>1.78</td>\n",
              "      <td>2</td>\n",
              "      <td>False</td>\n",
              "    </tr>\n",
              "    <tr>\n",
              "      <th>4</th>\n",
              "      <td>OK</td>\n",
              "      <td>75</td>\n",
              "      <td>415</td>\n",
              "      <td>Yes</td>\n",
              "      <td>No</td>\n",
              "      <td>0</td>\n",
              "      <td>166.7</td>\n",
              "      <td>113</td>\n",
              "      <td>28.34</td>\n",
              "      <td>148.3</td>\n",
              "      <td>122</td>\n",
              "      <td>12.61</td>\n",
              "      <td>186.9</td>\n",
              "      <td>121</td>\n",
              "      <td>8.41</td>\n",
              "      <td>10.1</td>\n",
              "      <td>3</td>\n",
              "      <td>2.73</td>\n",
              "      <td>3</td>\n",
              "      <td>False</td>\n",
              "    </tr>\n",
              "  </tbody>\n",
              "</table>\n",
              "</div>"
            ],
            "text/plain": [
              "  State  Account length  Area code International plan Voice mail plan  \\\n",
              "0    KS             128        415                 No             Yes   \n",
              "1    OH             107        415                 No             Yes   \n",
              "2    NJ             137        415                 No              No   \n",
              "3    OH              84        408                Yes              No   \n",
              "4    OK              75        415                Yes              No   \n",
              "\n",
              "   Number vmail messages  Total day minutes  Total day calls  \\\n",
              "0                     25              265.1              110   \n",
              "1                     26              161.6              123   \n",
              "2                      0              243.4              114   \n",
              "3                      0              299.4               71   \n",
              "4                      0              166.7              113   \n",
              "\n",
              "   Total day charge  Total eve minutes  Total eve calls  Total eve charge  \\\n",
              "0             45.07              197.4               99             16.78   \n",
              "1             27.47              195.5              103             16.62   \n",
              "2             41.38              121.2              110             10.30   \n",
              "3             50.90               61.9               88              5.26   \n",
              "4             28.34              148.3              122             12.61   \n",
              "\n",
              "   Total night minutes  Total night calls  Total night charge  \\\n",
              "0                244.7                 91               11.01   \n",
              "1                254.4                103               11.45   \n",
              "2                162.6                104                7.32   \n",
              "3                196.9                 89                8.86   \n",
              "4                186.9                121                8.41   \n",
              "\n",
              "   Total intl minutes  Total intl calls  Total intl charge  \\\n",
              "0                10.0                 3               2.70   \n",
              "1                13.7                 3               3.70   \n",
              "2                12.2                 5               3.29   \n",
              "3                 6.6                 7               1.78   \n",
              "4                10.1                 3               2.73   \n",
              "\n",
              "   Customer service calls  Churn  \n",
              "0                       1  False  \n",
              "1                       1  False  \n",
              "2                       0  False  \n",
              "3                       2  False  \n",
              "4                       3  False  "
            ]
          },
          "execution_count": 662,
          "metadata": {},
          "output_type": "execute_result"
        }
      ],
      "source": [
        "telecom.head()"
      ]
    },
    {
      "cell_type": "code",
      "execution_count": null,
      "id": "ce867884",
      "metadata": {
        "id": "ce867884",
        "outputId": "526959d7-5033-4716-c23b-1139089971a4"
      },
      "outputs": [
        {
          "data": {
            "text/html": [
              "<div>\n",
              "<style scoped>\n",
              "    .dataframe tbody tr th:only-of-type {\n",
              "        vertical-align: middle;\n",
              "    }\n",
              "\n",
              "    .dataframe tbody tr th {\n",
              "        vertical-align: top;\n",
              "    }\n",
              "\n",
              "    .dataframe thead th {\n",
              "        text-align: right;\n",
              "    }\n",
              "</style>\n",
              "<table border=\"1\" class=\"dataframe\">\n",
              "  <thead>\n",
              "    <tr style=\"text-align: right;\">\n",
              "      <th></th>\n",
              "      <th>Account length</th>\n",
              "      <th>Area code</th>\n",
              "      <th>Number vmail messages</th>\n",
              "      <th>Total day minutes</th>\n",
              "      <th>Total day calls</th>\n",
              "      <th>Total day charge</th>\n",
              "      <th>Total eve minutes</th>\n",
              "      <th>Total eve calls</th>\n",
              "      <th>Total eve charge</th>\n",
              "      <th>Total night minutes</th>\n",
              "      <th>Total night calls</th>\n",
              "      <th>Total night charge</th>\n",
              "      <th>Total intl minutes</th>\n",
              "      <th>Total intl calls</th>\n",
              "      <th>Total intl charge</th>\n",
              "      <th>Customer service calls</th>\n",
              "    </tr>\n",
              "  </thead>\n",
              "  <tbody>\n",
              "    <tr>\n",
              "      <th>count</th>\n",
              "      <td>3333.000000</td>\n",
              "      <td>3333.000000</td>\n",
              "      <td>3333.000000</td>\n",
              "      <td>3333.000000</td>\n",
              "      <td>3333.000000</td>\n",
              "      <td>3333.000000</td>\n",
              "      <td>3333.000000</td>\n",
              "      <td>3333.000000</td>\n",
              "      <td>3333.000000</td>\n",
              "      <td>3333.000000</td>\n",
              "      <td>3333.000000</td>\n",
              "      <td>3333.000000</td>\n",
              "      <td>3333.000000</td>\n",
              "      <td>3333.000000</td>\n",
              "      <td>3333.000000</td>\n",
              "      <td>3333.000000</td>\n",
              "    </tr>\n",
              "    <tr>\n",
              "      <th>mean</th>\n",
              "      <td>101.064806</td>\n",
              "      <td>437.182418</td>\n",
              "      <td>8.099010</td>\n",
              "      <td>179.775098</td>\n",
              "      <td>100.435644</td>\n",
              "      <td>30.562307</td>\n",
              "      <td>200.980348</td>\n",
              "      <td>100.114311</td>\n",
              "      <td>17.083540</td>\n",
              "      <td>200.872037</td>\n",
              "      <td>100.107711</td>\n",
              "      <td>9.039325</td>\n",
              "      <td>10.237294</td>\n",
              "      <td>4.479448</td>\n",
              "      <td>2.764581</td>\n",
              "      <td>1.562856</td>\n",
              "    </tr>\n",
              "    <tr>\n",
              "      <th>std</th>\n",
              "      <td>39.822106</td>\n",
              "      <td>42.371290</td>\n",
              "      <td>13.688365</td>\n",
              "      <td>54.467389</td>\n",
              "      <td>20.069084</td>\n",
              "      <td>9.259435</td>\n",
              "      <td>50.713844</td>\n",
              "      <td>19.922625</td>\n",
              "      <td>4.310668</td>\n",
              "      <td>50.573847</td>\n",
              "      <td>19.568609</td>\n",
              "      <td>2.275873</td>\n",
              "      <td>2.791840</td>\n",
              "      <td>2.461214</td>\n",
              "      <td>0.753773</td>\n",
              "      <td>1.315491</td>\n",
              "    </tr>\n",
              "    <tr>\n",
              "      <th>min</th>\n",
              "      <td>1.000000</td>\n",
              "      <td>408.000000</td>\n",
              "      <td>0.000000</td>\n",
              "      <td>0.000000</td>\n",
              "      <td>0.000000</td>\n",
              "      <td>0.000000</td>\n",
              "      <td>0.000000</td>\n",
              "      <td>0.000000</td>\n",
              "      <td>0.000000</td>\n",
              "      <td>23.200000</td>\n",
              "      <td>33.000000</td>\n",
              "      <td>1.040000</td>\n",
              "      <td>0.000000</td>\n",
              "      <td>0.000000</td>\n",
              "      <td>0.000000</td>\n",
              "      <td>0.000000</td>\n",
              "    </tr>\n",
              "    <tr>\n",
              "      <th>25%</th>\n",
              "      <td>74.000000</td>\n",
              "      <td>408.000000</td>\n",
              "      <td>0.000000</td>\n",
              "      <td>143.700000</td>\n",
              "      <td>87.000000</td>\n",
              "      <td>24.430000</td>\n",
              "      <td>166.600000</td>\n",
              "      <td>87.000000</td>\n",
              "      <td>14.160000</td>\n",
              "      <td>167.000000</td>\n",
              "      <td>87.000000</td>\n",
              "      <td>7.520000</td>\n",
              "      <td>8.500000</td>\n",
              "      <td>3.000000</td>\n",
              "      <td>2.300000</td>\n",
              "      <td>1.000000</td>\n",
              "    </tr>\n",
              "    <tr>\n",
              "      <th>50%</th>\n",
              "      <td>101.000000</td>\n",
              "      <td>415.000000</td>\n",
              "      <td>0.000000</td>\n",
              "      <td>179.400000</td>\n",
              "      <td>101.000000</td>\n",
              "      <td>30.500000</td>\n",
              "      <td>201.400000</td>\n",
              "      <td>100.000000</td>\n",
              "      <td>17.120000</td>\n",
              "      <td>201.200000</td>\n",
              "      <td>100.000000</td>\n",
              "      <td>9.050000</td>\n",
              "      <td>10.300000</td>\n",
              "      <td>4.000000</td>\n",
              "      <td>2.780000</td>\n",
              "      <td>1.000000</td>\n",
              "    </tr>\n",
              "    <tr>\n",
              "      <th>75%</th>\n",
              "      <td>127.000000</td>\n",
              "      <td>510.000000</td>\n",
              "      <td>20.000000</td>\n",
              "      <td>216.400000</td>\n",
              "      <td>114.000000</td>\n",
              "      <td>36.790000</td>\n",
              "      <td>235.300000</td>\n",
              "      <td>114.000000</td>\n",
              "      <td>20.000000</td>\n",
              "      <td>235.300000</td>\n",
              "      <td>113.000000</td>\n",
              "      <td>10.590000</td>\n",
              "      <td>12.100000</td>\n",
              "      <td>6.000000</td>\n",
              "      <td>3.270000</td>\n",
              "      <td>2.000000</td>\n",
              "    </tr>\n",
              "    <tr>\n",
              "      <th>max</th>\n",
              "      <td>243.000000</td>\n",
              "      <td>510.000000</td>\n",
              "      <td>51.000000</td>\n",
              "      <td>350.800000</td>\n",
              "      <td>165.000000</td>\n",
              "      <td>59.640000</td>\n",
              "      <td>363.700000</td>\n",
              "      <td>170.000000</td>\n",
              "      <td>30.910000</td>\n",
              "      <td>395.000000</td>\n",
              "      <td>175.000000</td>\n",
              "      <td>17.770000</td>\n",
              "      <td>20.000000</td>\n",
              "      <td>20.000000</td>\n",
              "      <td>5.400000</td>\n",
              "      <td>9.000000</td>\n",
              "    </tr>\n",
              "  </tbody>\n",
              "</table>\n",
              "</div>"
            ],
            "text/plain": [
              "       Account length    Area code  Number vmail messages  Total day minutes  \\\n",
              "count     3333.000000  3333.000000            3333.000000        3333.000000   \n",
              "mean       101.064806   437.182418               8.099010         179.775098   \n",
              "std         39.822106    42.371290              13.688365          54.467389   \n",
              "min          1.000000   408.000000               0.000000           0.000000   \n",
              "25%         74.000000   408.000000               0.000000         143.700000   \n",
              "50%        101.000000   415.000000               0.000000         179.400000   \n",
              "75%        127.000000   510.000000              20.000000         216.400000   \n",
              "max        243.000000   510.000000              51.000000         350.800000   \n",
              "\n",
              "       Total day calls  Total day charge  Total eve minutes  Total eve calls  \\\n",
              "count      3333.000000       3333.000000        3333.000000      3333.000000   \n",
              "mean        100.435644         30.562307         200.980348       100.114311   \n",
              "std          20.069084          9.259435          50.713844        19.922625   \n",
              "min           0.000000          0.000000           0.000000         0.000000   \n",
              "25%          87.000000         24.430000         166.600000        87.000000   \n",
              "50%         101.000000         30.500000         201.400000       100.000000   \n",
              "75%         114.000000         36.790000         235.300000       114.000000   \n",
              "max         165.000000         59.640000         363.700000       170.000000   \n",
              "\n",
              "       Total eve charge  Total night minutes  Total night calls  \\\n",
              "count       3333.000000          3333.000000        3333.000000   \n",
              "mean          17.083540           200.872037         100.107711   \n",
              "std            4.310668            50.573847          19.568609   \n",
              "min            0.000000            23.200000          33.000000   \n",
              "25%           14.160000           167.000000          87.000000   \n",
              "50%           17.120000           201.200000         100.000000   \n",
              "75%           20.000000           235.300000         113.000000   \n",
              "max           30.910000           395.000000         175.000000   \n",
              "\n",
              "       Total night charge  Total intl minutes  Total intl calls  \\\n",
              "count         3333.000000         3333.000000       3333.000000   \n",
              "mean             9.039325           10.237294          4.479448   \n",
              "std              2.275873            2.791840          2.461214   \n",
              "min              1.040000            0.000000          0.000000   \n",
              "25%              7.520000            8.500000          3.000000   \n",
              "50%              9.050000           10.300000          4.000000   \n",
              "75%             10.590000           12.100000          6.000000   \n",
              "max             17.770000           20.000000         20.000000   \n",
              "\n",
              "       Total intl charge  Customer service calls  \n",
              "count        3333.000000             3333.000000  \n",
              "mean            2.764581                1.562856  \n",
              "std             0.753773                1.315491  \n",
              "min             0.000000                0.000000  \n",
              "25%             2.300000                1.000000  \n",
              "50%             2.780000                1.000000  \n",
              "75%             3.270000                2.000000  \n",
              "max             5.400000                9.000000  "
            ]
          },
          "execution_count": 663,
          "metadata": {},
          "output_type": "execute_result"
        }
      ],
      "source": [
        "telecom.describe()"
      ]
    },
    {
      "cell_type": "code",
      "execution_count": null,
      "id": "93c2dd3e",
      "metadata": {
        "id": "93c2dd3e",
        "outputId": "e1081d76-07c9-448a-8d36-4af6c317fedf"
      },
      "outputs": [
        {
          "name": "stdout",
          "output_type": "stream",
          "text": [
            "<class 'pandas.core.frame.DataFrame'>\n",
            "RangeIndex: 3333 entries, 0 to 3332\n",
            "Data columns (total 20 columns):\n",
            " #   Column                  Non-Null Count  Dtype  \n",
            "---  ------                  --------------  -----  \n",
            " 0   State                   3333 non-null   object \n",
            " 1   Account length          3333 non-null   int64  \n",
            " 2   Area code               3333 non-null   int64  \n",
            " 3   International plan      3333 non-null   object \n",
            " 4   Voice mail plan         3333 non-null   object \n",
            " 5   Number vmail messages   3333 non-null   int64  \n",
            " 6   Total day minutes       3333 non-null   float64\n",
            " 7   Total day calls         3333 non-null   int64  \n",
            " 8   Total day charge        3333 non-null   float64\n",
            " 9   Total eve minutes       3333 non-null   float64\n",
            " 10  Total eve calls         3333 non-null   int64  \n",
            " 11  Total eve charge        3333 non-null   float64\n",
            " 12  Total night minutes     3333 non-null   float64\n",
            " 13  Total night calls       3333 non-null   int64  \n",
            " 14  Total night charge      3333 non-null   float64\n",
            " 15  Total intl minutes      3333 non-null   float64\n",
            " 16  Total intl calls        3333 non-null   int64  \n",
            " 17  Total intl charge       3333 non-null   float64\n",
            " 18  Customer service calls  3333 non-null   int64  \n",
            " 19  Churn                   3333 non-null   bool   \n",
            "dtypes: bool(1), float64(8), int64(8), object(3)\n",
            "memory usage: 498.1+ KB\n"
          ]
        }
      ],
      "source": [
        "telecom.info()"
      ]
    },
    {
      "cell_type": "code",
      "execution_count": null,
      "id": "a644da3a",
      "metadata": {
        "id": "a644da3a",
        "outputId": "6b0091f0-18e0-4947-fdcb-6a14348c0948"
      },
      "outputs": [
        {
          "data": {
            "text/plain": [
              "2850"
            ]
          },
          "execution_count": 665,
          "metadata": {},
          "output_type": "execute_result"
        }
      ],
      "source": [
        "non_churn_count = telecom[\"Churn\"][telecom[\"Churn\"]== False].count()\n",
        "non_churn_count"
      ]
    },
    {
      "cell_type": "code",
      "execution_count": null,
      "id": "b7b16fbf",
      "metadata": {
        "id": "b7b16fbf",
        "outputId": "22aef0ab-b849-48e3-a5ae-c57ec56ea1ad"
      },
      "outputs": [
        {
          "data": {
            "text/plain": [
              "483"
            ]
          },
          "execution_count": 666,
          "metadata": {},
          "output_type": "execute_result"
        }
      ],
      "source": [
        "churn_count = telecom[\"Churn\"][telecom[\"Churn\"]== True].count()\n",
        "churn_count"
      ]
    },
    {
      "cell_type": "markdown",
      "id": "89176790",
      "metadata": {
        "id": "89176790"
      },
      "source": [
        "###### CHURN %"
      ]
    },
    {
      "cell_type": "code",
      "execution_count": null,
      "id": "a67d6ca4",
      "metadata": {
        "id": "a67d6ca4",
        "outputId": "2fe35abd-d756-4cf5-a96c-03c1832f1aaf"
      },
      "outputs": [
        {
          "data": {
            "text/plain": [
              "Churn\n",
              "False    2850\n",
              "True      483\n",
              "dtype: int64"
            ]
          },
          "execution_count": 667,
          "metadata": {},
          "output_type": "execute_result"
        }
      ],
      "source": [
        "Count_by_churn= telecom.groupby(\"Churn\").size()\n",
        "Count_by_churn"
      ]
    },
    {
      "cell_type": "code",
      "execution_count": null,
      "id": "75485a8f",
      "metadata": {
        "id": "75485a8f",
        "outputId": "d7df3ece-a5c0-41a3-872a-cbdc1ee3cba6"
      },
      "outputs": [
        {
          "data": {
            "text/plain": [
              "Text(0, 1.3, '% CHURN')"
            ]
          },
          "execution_count": 718,
          "metadata": {},
          "output_type": "execute_result"
        },
        {
          "data": {
            "image/png": "[encoded data removed]",
            "text/plain": [
              "<Figure size 576x396 with 1 Axes>"
            ]
          },
          "metadata": {},
          "output_type": "display_data"
        }
      ],
      "source": [
        "plt.pie(Count_by_churn,labels= ['Customers Retained', 'Customers Churn'],autopct='%.2f%%',explode = [0,0.2])\n",
        "plt.text(x=0,y=1.3,s=\"% CHURN\", fontweight='bold',fontsize=15,horizontalalignment='center',verticalalignment='top')"
      ]
    },
    {
      "cell_type": "markdown",
      "id": "c9b080aa",
      "metadata": {
        "id": "c9b080aa"
      },
      "source": [
        "###### DOES CUSTOMER CHURN DEPENDS UPON USING VOICE MAIL FEATURE? "
      ]
    },
    {
      "cell_type": "code",
      "execution_count": null,
      "id": "18e32f24",
      "metadata": {
        "id": "18e32f24"
      },
      "outputs": [],
      "source": [
        "vmail_users = telecom.loc[~(telecom[\"Number vmail messages\"]==0)]"
      ]
    },
    {
      "cell_type": "code",
      "execution_count": null,
      "id": "88978af9",
      "metadata": {
        "id": "88978af9",
        "outputId": "fb5cd61d-64bd-4557-f074-94fccbd3ad01"
      },
      "outputs": [
        {
          "data": {
            "text/html": [
              "<div>\n",
              "<style scoped>\n",
              "    .dataframe tbody tr th:only-of-type {\n",
              "        vertical-align: middle;\n",
              "    }\n",
              "\n",
              "    .dataframe tbody tr th {\n",
              "        vertical-align: top;\n",
              "    }\n",
              "\n",
              "    .dataframe thead th {\n",
              "        text-align: right;\n",
              "    }\n",
              "</style>\n",
              "<table border=\"1\" class=\"dataframe\">\n",
              "  <thead>\n",
              "    <tr style=\"text-align: right;\">\n",
              "      <th></th>\n",
              "      <th>State</th>\n",
              "      <th>Account length</th>\n",
              "      <th>Area code</th>\n",
              "      <th>International plan</th>\n",
              "      <th>Voice mail plan</th>\n",
              "      <th>Number vmail messages</th>\n",
              "      <th>Total day minutes</th>\n",
              "      <th>Total day calls</th>\n",
              "      <th>Total day charge</th>\n",
              "      <th>Total eve minutes</th>\n",
              "      <th>Total eve calls</th>\n",
              "      <th>Total eve charge</th>\n",
              "      <th>Total night minutes</th>\n",
              "      <th>Total night calls</th>\n",
              "      <th>Total night charge</th>\n",
              "      <th>Total intl minutes</th>\n",
              "      <th>Total intl calls</th>\n",
              "      <th>Total intl charge</th>\n",
              "      <th>Customer service calls</th>\n",
              "      <th>Churn</th>\n",
              "    </tr>\n",
              "  </thead>\n",
              "  <tbody>\n",
              "    <tr>\n",
              "      <th>0</th>\n",
              "      <td>KS</td>\n",
              "      <td>128</td>\n",
              "      <td>415</td>\n",
              "      <td>No</td>\n",
              "      <td>Yes</td>\n",
              "      <td>25</td>\n",
              "      <td>265.1</td>\n",
              "      <td>110</td>\n",
              "      <td>45.07</td>\n",
              "      <td>197.4</td>\n",
              "      <td>99</td>\n",
              "      <td>16.78</td>\n",
              "      <td>244.7</td>\n",
              "      <td>91</td>\n",
              "      <td>11.01</td>\n",
              "      <td>10.0</td>\n",
              "      <td>3</td>\n",
              "      <td>2.70</td>\n",
              "      <td>1</td>\n",
              "      <td>False</td>\n",
              "    </tr>\n",
              "    <tr>\n",
              "      <th>1</th>\n",
              "      <td>OH</td>\n",
              "      <td>107</td>\n",
              "      <td>415</td>\n",
              "      <td>No</td>\n",
              "      <td>Yes</td>\n",
              "      <td>26</td>\n",
              "      <td>161.6</td>\n",
              "      <td>123</td>\n",
              "      <td>27.47</td>\n",
              "      <td>195.5</td>\n",
              "      <td>103</td>\n",
              "      <td>16.62</td>\n",
              "      <td>254.4</td>\n",
              "      <td>103</td>\n",
              "      <td>11.45</td>\n",
              "      <td>13.7</td>\n",
              "      <td>3</td>\n",
              "      <td>3.70</td>\n",
              "      <td>1</td>\n",
              "      <td>False</td>\n",
              "    </tr>\n",
              "    <tr>\n",
              "      <th>6</th>\n",
              "      <td>MA</td>\n",
              "      <td>121</td>\n",
              "      <td>510</td>\n",
              "      <td>No</td>\n",
              "      <td>Yes</td>\n",
              "      <td>24</td>\n",
              "      <td>218.2</td>\n",
              "      <td>88</td>\n",
              "      <td>37.09</td>\n",
              "      <td>348.5</td>\n",
              "      <td>108</td>\n",
              "      <td>29.62</td>\n",
              "      <td>212.6</td>\n",
              "      <td>118</td>\n",
              "      <td>9.57</td>\n",
              "      <td>7.5</td>\n",
              "      <td>7</td>\n",
              "      <td>2.03</td>\n",
              "      <td>3</td>\n",
              "      <td>False</td>\n",
              "    </tr>\n",
              "    <tr>\n",
              "      <th>9</th>\n",
              "      <td>WV</td>\n",
              "      <td>141</td>\n",
              "      <td>415</td>\n",
              "      <td>Yes</td>\n",
              "      <td>Yes</td>\n",
              "      <td>37</td>\n",
              "      <td>258.6</td>\n",
              "      <td>84</td>\n",
              "      <td>43.96</td>\n",
              "      <td>222.0</td>\n",
              "      <td>111</td>\n",
              "      <td>18.87</td>\n",
              "      <td>326.4</td>\n",
              "      <td>97</td>\n",
              "      <td>14.69</td>\n",
              "      <td>11.2</td>\n",
              "      <td>5</td>\n",
              "      <td>3.02</td>\n",
              "      <td>0</td>\n",
              "      <td>False</td>\n",
              "    </tr>\n",
              "    <tr>\n",
              "      <th>16</th>\n",
              "      <td>ID</td>\n",
              "      <td>85</td>\n",
              "      <td>408</td>\n",
              "      <td>No</td>\n",
              "      <td>Yes</td>\n",
              "      <td>27</td>\n",
              "      <td>196.4</td>\n",
              "      <td>139</td>\n",
              "      <td>33.39</td>\n",
              "      <td>280.9</td>\n",
              "      <td>90</td>\n",
              "      <td>23.88</td>\n",
              "      <td>89.3</td>\n",
              "      <td>75</td>\n",
              "      <td>4.02</td>\n",
              "      <td>13.8</td>\n",
              "      <td>4</td>\n",
              "      <td>3.73</td>\n",
              "      <td>1</td>\n",
              "      <td>False</td>\n",
              "    </tr>\n",
              "  </tbody>\n",
              "</table>\n",
              "</div>"
            ],
            "text/plain": [
              "   State  Account length  Area code International plan Voice mail plan  \\\n",
              "0     KS             128        415                 No             Yes   \n",
              "1     OH             107        415                 No             Yes   \n",
              "6     MA             121        510                 No             Yes   \n",
              "9     WV             141        415                Yes             Yes   \n",
              "16    ID              85        408                 No             Yes   \n",
              "\n",
              "    Number vmail messages  Total day minutes  Total day calls  \\\n",
              "0                      25              265.1              110   \n",
              "1                      26              161.6              123   \n",
              "6                      24              218.2               88   \n",
              "9                      37              258.6               84   \n",
              "16                     27              196.4              139   \n",
              "\n",
              "    Total day charge  Total eve minutes  Total eve calls  Total eve charge  \\\n",
              "0              45.07              197.4               99             16.78   \n",
              "1              27.47              195.5              103             16.62   \n",
              "6              37.09              348.5              108             29.62   \n",
              "9              43.96              222.0              111             18.87   \n",
              "16             33.39              280.9               90             23.88   \n",
              "\n",
              "    Total night minutes  Total night calls  Total night charge  \\\n",
              "0                 244.7                 91               11.01   \n",
              "1                 254.4                103               11.45   \n",
              "6                 212.6                118                9.57   \n",
              "9                 326.4                 97               14.69   \n",
              "16                 89.3                 75                4.02   \n",
              "\n",
              "    Total intl minutes  Total intl calls  Total intl charge  \\\n",
              "0                 10.0                 3               2.70   \n",
              "1                 13.7                 3               3.70   \n",
              "6                  7.5                 7               2.03   \n",
              "9                 11.2                 5               3.02   \n",
              "16                13.8                 4               3.73   \n",
              "\n",
              "    Customer service calls  Churn  \n",
              "0                        1  False  \n",
              "1                        1  False  \n",
              "6                        3  False  \n",
              "9                        0  False  \n",
              "16                       1  False  "
            ]
          },
          "execution_count": 670,
          "metadata": {},
          "output_type": "execute_result"
        }
      ],
      "source": [
        "vmail_users.head()"
      ]
    },
    {
      "cell_type": "code",
      "execution_count": null,
      "id": "ff862af6",
      "metadata": {
        "id": "ff862af6",
        "outputId": "2ebde2c0-6a1d-40a0-e281-e5b8302846fb"
      },
      "outputs": [
        {
          "data": {
            "text/plain": [
              "<AxesSubplot:title={'center':'Number vmail messages'}, xlabel='Churn'>"
            ]
          },
          "execution_count": 671,
          "metadata": {},
          "output_type": "execute_result"
        },
        {
          "data": {
            "image/png": "[encoded data removed]",
            "text/plain": [
              "<Figure size 720x360 with 1 Axes>"
            ]
          },
          "metadata": {},
          "output_type": "display_data"
        }
      ],
      "source": [
        "vmail_users.boxplot(column='Number vmail messages', by='Churn',figsize=(10,5),fontsize=15)"
      ]
    },
    {
      "cell_type": "code",
      "execution_count": null,
      "id": "b645cca9",
      "metadata": {
        "id": "b645cca9",
        "outputId": "f9fabee5-3f7d-4c2b-c941-79a3a8f93c75"
      },
      "outputs": [
        {
          "data": {
            "text/html": [
              "<div>\n",
              "<style scoped>\n",
              "    .dataframe tbody tr th:only-of-type {\n",
              "        vertical-align: middle;\n",
              "    }\n",
              "\n",
              "    .dataframe tbody tr th {\n",
              "        vertical-align: top;\n",
              "    }\n",
              "\n",
              "    .dataframe thead th {\n",
              "        text-align: right;\n",
              "    }\n",
              "</style>\n",
              "<table border=\"1\" class=\"dataframe\">\n",
              "  <thead>\n",
              "    <tr style=\"text-align: right;\">\n",
              "      <th></th>\n",
              "      <th>count</th>\n",
              "      <th>mean</th>\n",
              "      <th>std</th>\n",
              "      <th>min</th>\n",
              "      <th>25%</th>\n",
              "      <th>50%</th>\n",
              "      <th>75%</th>\n",
              "      <th>max</th>\n",
              "    </tr>\n",
              "    <tr>\n",
              "      <th>Churn</th>\n",
              "      <th></th>\n",
              "      <th></th>\n",
              "      <th></th>\n",
              "      <th></th>\n",
              "      <th></th>\n",
              "      <th></th>\n",
              "      <th></th>\n",
              "      <th></th>\n",
              "    </tr>\n",
              "  </thead>\n",
              "  <tbody>\n",
              "    <tr>\n",
              "      <th>False</th>\n",
              "      <td>842.0</td>\n",
              "      <td>29.124703</td>\n",
              "      <td>7.576789</td>\n",
              "      <td>4.0</td>\n",
              "      <td>24.0</td>\n",
              "      <td>29.0</td>\n",
              "      <td>34.0</td>\n",
              "      <td>51.0</td>\n",
              "    </tr>\n",
              "    <tr>\n",
              "      <th>True</th>\n",
              "      <td>80.0</td>\n",
              "      <td>30.887500</td>\n",
              "      <td>7.219863</td>\n",
              "      <td>15.0</td>\n",
              "      <td>27.0</td>\n",
              "      <td>31.0</td>\n",
              "      <td>35.0</td>\n",
              "      <td>48.0</td>\n",
              "    </tr>\n",
              "  </tbody>\n",
              "</table>\n",
              "</div>"
            ],
            "text/plain": [
              "       count       mean       std   min   25%   50%   75%   max\n",
              "Churn                                                          \n",
              "False  842.0  29.124703  7.576789   4.0  24.0  29.0  34.0  51.0\n",
              "True    80.0  30.887500  7.219863  15.0  27.0  31.0  35.0  48.0"
            ]
          },
          "execution_count": 672,
          "metadata": {},
          "output_type": "execute_result"
        }
      ],
      "source": [
        "vmail_users.groupby(by=\"Churn\")[\"Number vmail messages\"].describe()"
      ]
    },
    {
      "cell_type": "markdown",
      "id": "f9eeee22",
      "metadata": {
        "id": "f9eeee22"
      },
      "source": [
        "###### Is there any difference between Total day usage in Churned & Non-churned customers"
      ]
    },
    {
      "cell_type": "code",
      "execution_count": null,
      "id": "95b57dd6",
      "metadata": {
        "id": "95b57dd6",
        "outputId": "cb7e1e95-0c5a-426b-d5be-c093858df3c0"
      },
      "outputs": [
        {
          "data": {
            "text/html": [
              "<div>\n",
              "<style scoped>\n",
              "    .dataframe tbody tr th:only-of-type {\n",
              "        vertical-align: middle;\n",
              "    }\n",
              "\n",
              "    .dataframe tbody tr th {\n",
              "        vertical-align: top;\n",
              "    }\n",
              "\n",
              "    .dataframe thead th {\n",
              "        text-align: right;\n",
              "    }\n",
              "</style>\n",
              "<table border=\"1\" class=\"dataframe\">\n",
              "  <thead>\n",
              "    <tr style=\"text-align: right;\">\n",
              "      <th></th>\n",
              "      <th>count</th>\n",
              "      <th>mean</th>\n",
              "      <th>std</th>\n",
              "      <th>min</th>\n",
              "      <th>25%</th>\n",
              "      <th>50%</th>\n",
              "      <th>75%</th>\n",
              "      <th>max</th>\n",
              "    </tr>\n",
              "    <tr>\n",
              "      <th>Churn</th>\n",
              "      <th></th>\n",
              "      <th></th>\n",
              "      <th></th>\n",
              "      <th></th>\n",
              "      <th></th>\n",
              "      <th></th>\n",
              "      <th></th>\n",
              "      <th></th>\n",
              "    </tr>\n",
              "  </thead>\n",
              "  <tbody>\n",
              "    <tr>\n",
              "      <th>False</th>\n",
              "      <td>2850.0</td>\n",
              "      <td>100.283158</td>\n",
              "      <td>19.801157</td>\n",
              "      <td>0.0</td>\n",
              "      <td>87.0</td>\n",
              "      <td>100.0</td>\n",
              "      <td>114.0</td>\n",
              "      <td>163.0</td>\n",
              "    </tr>\n",
              "    <tr>\n",
              "      <th>True</th>\n",
              "      <td>483.0</td>\n",
              "      <td>101.335404</td>\n",
              "      <td>21.582307</td>\n",
              "      <td>0.0</td>\n",
              "      <td>87.5</td>\n",
              "      <td>103.0</td>\n",
              "      <td>116.5</td>\n",
              "      <td>165.0</td>\n",
              "    </tr>\n",
              "  </tbody>\n",
              "</table>\n",
              "</div>"
            ],
            "text/plain": [
              "        count        mean        std  min   25%    50%    75%    max\n",
              "Churn                                                               \n",
              "False  2850.0  100.283158  19.801157  0.0  87.0  100.0  114.0  163.0\n",
              "True    483.0  101.335404  21.582307  0.0  87.5  103.0  116.5  165.0"
            ]
          },
          "execution_count": 673,
          "metadata": {},
          "output_type": "execute_result"
        }
      ],
      "source": [
        "telecom.groupby(\"Churn\")[\"Total day calls\"].describe()  # No diff in no of calls made by churn and non churn"
      ]
    },
    {
      "cell_type": "code",
      "execution_count": null,
      "id": "1326e7cc",
      "metadata": {
        "id": "1326e7cc",
        "outputId": "06e05a4f-c40c-435b-de69-0dae8bc4ff3c"
      },
      "outputs": [
        {
          "data": {
            "text/html": [
              "<div>\n",
              "<style scoped>\n",
              "    .dataframe tbody tr th:only-of-type {\n",
              "        vertical-align: middle;\n",
              "    }\n",
              "\n",
              "    .dataframe tbody tr th {\n",
              "        vertical-align: top;\n",
              "    }\n",
              "\n",
              "    .dataframe thead th {\n",
              "        text-align: right;\n",
              "    }\n",
              "</style>\n",
              "<table border=\"1\" class=\"dataframe\">\n",
              "  <thead>\n",
              "    <tr style=\"text-align: right;\">\n",
              "      <th></th>\n",
              "      <th>count</th>\n",
              "      <th>mean</th>\n",
              "      <th>std</th>\n",
              "      <th>min</th>\n",
              "      <th>25%</th>\n",
              "      <th>50%</th>\n",
              "      <th>75%</th>\n",
              "      <th>max</th>\n",
              "    </tr>\n",
              "    <tr>\n",
              "      <th>Churn</th>\n",
              "      <th></th>\n",
              "      <th></th>\n",
              "      <th></th>\n",
              "      <th></th>\n",
              "      <th></th>\n",
              "      <th></th>\n",
              "      <th></th>\n",
              "      <th></th>\n",
              "    </tr>\n",
              "  </thead>\n",
              "  <tbody>\n",
              "    <tr>\n",
              "      <th>False</th>\n",
              "      <td>2850.0</td>\n",
              "      <td>175.175754</td>\n",
              "      <td>50.181655</td>\n",
              "      <td>0.0</td>\n",
              "      <td>142.825</td>\n",
              "      <td>177.2</td>\n",
              "      <td>210.30</td>\n",
              "      <td>315.6</td>\n",
              "    </tr>\n",
              "    <tr>\n",
              "      <th>True</th>\n",
              "      <td>483.0</td>\n",
              "      <td>206.914079</td>\n",
              "      <td>68.997792</td>\n",
              "      <td>0.0</td>\n",
              "      <td>153.250</td>\n",
              "      <td>217.6</td>\n",
              "      <td>265.95</td>\n",
              "      <td>350.8</td>\n",
              "    </tr>\n",
              "  </tbody>\n",
              "</table>\n",
              "</div>"
            ],
            "text/plain": [
              "        count        mean        std  min      25%    50%     75%    max\n",
              "Churn                                                                   \n",
              "False  2850.0  175.175754  50.181655  0.0  142.825  177.2  210.30  315.6\n",
              "True    483.0  206.914079  68.997792  0.0  153.250  217.6  265.95  350.8"
            ]
          },
          "execution_count": 674,
          "metadata": {},
          "output_type": "execute_result"
        }
      ],
      "source": [
        "telecom.groupby(\"Churn\")[\"Total day minutes\"].describe() #but diff in minutes , this proves problem in long calls in day"
      ]
    },
    {
      "cell_type": "code",
      "execution_count": null,
      "id": "a256d312",
      "metadata": {
        "id": "a256d312"
      },
      "outputs": [],
      "source": [
        "#Splitting the data by churn and non-churn customers\n",
        "\n",
        "Churn = telecom[telecom[\"Churn\"]==True] \n",
        "Non_churn = telecom[telecom[\"Churn\"]==False]"
      ]
    },
    {
      "cell_type": "code",
      "execution_count": null,
      "id": "8c08fd4b",
      "metadata": {
        "id": "8c08fd4b",
        "outputId": "d1c8cb25-8909-4098-9ad9-7d6e6325aa34"
      },
      "outputs": [
        {
          "data": {
            "image/png": "[encoded data removed]",
            "text/plain": [
              "<Figure size 360x360 with 1 Axes>"
            ]
          },
          "metadata": {},
          "output_type": "display_data"
        },
        {
          "data": {
            "image/png": "[encoded data removed]",
            "text/plain": [
              "<Figure size 360x360 with 1 Axes>"
            ]
          },
          "metadata": {},
          "output_type": "display_data"
        }
      ],
      "source": [
        "#plotting distribution plot to compare day usage between churned and non-churn customers\n",
        "\n",
        "sns.displot(Churn[\"Total day minutes\"],kind='kde',fill=True)\n",
        "plt.title(\"Distribution of Churn Customers wrt Total day minutes\")\n",
        "plt.text(x=300,y=0.005,s=\"Skewness: %f \" % Churn[\"Total day minutes\"].skew())\n",
        "sns.displot(Non_churn[\"Total day minutes\"],kind='kde',fill=True)\n",
        "plt.title(\"Distribution of Non-Churn Customers wrt Total day minutes\")\n",
        "plt.text(x=250,y=0.007,s=\"Skewness: %f \" % Non_churn[\"Total day minutes\"].skew())\n",
        "plt.show()"
      ]
    },
    {
      "cell_type": "code",
      "execution_count": null,
      "id": "042c2b9e",
      "metadata": {
        "id": "042c2b9e",
        "outputId": "4e6010b2-d2ab-4e4d-8686-3cd68d50cd3d"
      },
      "outputs": [
        {
          "data": {
            "text/plain": [
              "<AxesSubplot:title={'center':'Total day minutes'}, xlabel='Churn'>"
            ]
          },
          "execution_count": 677,
          "metadata": {},
          "output_type": "execute_result"
        },
        {
          "data": {
            "image/png": "[encoded data removed]",
            "text/plain": [
              "<Figure size 720x360 with 1 Axes>"
            ]
          },
          "metadata": {},
          "output_type": "display_data"
        }
      ],
      "source": [
        "telecom.boxplot(column='Total day minutes', by='Churn',figsize=(10,5),fontsize=15)"
      ]
    },
    {
      "cell_type": "code",
      "execution_count": null,
      "id": "9be4dec0",
      "metadata": {
        "id": "9be4dec0",
        "outputId": "878b9cc7-0f56-46f5-cfbf-dfdcc5e65a70"
      },
      "outputs": [
        {
          "data": {
            "text/html": [
              "<div>\n",
              "<style scoped>\n",
              "    .dataframe tbody tr th:only-of-type {\n",
              "        vertical-align: middle;\n",
              "    }\n",
              "\n",
              "    .dataframe tbody tr th {\n",
              "        vertical-align: top;\n",
              "    }\n",
              "\n",
              "    .dataframe thead th {\n",
              "        text-align: right;\n",
              "    }\n",
              "</style>\n",
              "<table border=\"1\" class=\"dataframe\">\n",
              "  <thead>\n",
              "    <tr style=\"text-align: right;\">\n",
              "      <th></th>\n",
              "      <th>count</th>\n",
              "      <th>mean</th>\n",
              "      <th>std</th>\n",
              "      <th>min</th>\n",
              "      <th>25%</th>\n",
              "      <th>50%</th>\n",
              "      <th>75%</th>\n",
              "      <th>max</th>\n",
              "    </tr>\n",
              "    <tr>\n",
              "      <th>Churn</th>\n",
              "      <th></th>\n",
              "      <th></th>\n",
              "      <th></th>\n",
              "      <th></th>\n",
              "      <th></th>\n",
              "      <th></th>\n",
              "      <th></th>\n",
              "      <th></th>\n",
              "    </tr>\n",
              "  </thead>\n",
              "  <tbody>\n",
              "    <tr>\n",
              "      <th>False</th>\n",
              "      <td>2850.0</td>\n",
              "      <td>100.038596</td>\n",
              "      <td>19.958414</td>\n",
              "      <td>0.0</td>\n",
              "      <td>87.0</td>\n",
              "      <td>100.0</td>\n",
              "      <td>114.0</td>\n",
              "      <td>170.0</td>\n",
              "    </tr>\n",
              "    <tr>\n",
              "      <th>True</th>\n",
              "      <td>483.0</td>\n",
              "      <td>100.561077</td>\n",
              "      <td>19.724711</td>\n",
              "      <td>48.0</td>\n",
              "      <td>87.0</td>\n",
              "      <td>101.0</td>\n",
              "      <td>114.0</td>\n",
              "      <td>168.0</td>\n",
              "    </tr>\n",
              "  </tbody>\n",
              "</table>\n",
              "</div>"
            ],
            "text/plain": [
              "        count        mean        std   min   25%    50%    75%    max\n",
              "Churn                                                                \n",
              "False  2850.0  100.038596  19.958414   0.0  87.0  100.0  114.0  170.0\n",
              "True    483.0  100.561077  19.724711  48.0  87.0  101.0  114.0  168.0"
            ]
          },
          "execution_count": 678,
          "metadata": {},
          "output_type": "execute_result"
        }
      ],
      "source": [
        "telecom.groupby(\"Churn\")[\"Total eve calls\"].describe()"
      ]
    },
    {
      "cell_type": "code",
      "execution_count": null,
      "id": "e19f7cf3",
      "metadata": {
        "id": "e19f7cf3",
        "outputId": "6a6bf128-7734-4a2e-f54c-84b40f439cde"
      },
      "outputs": [
        {
          "data": {
            "text/html": [
              "<div>\n",
              "<style scoped>\n",
              "    .dataframe tbody tr th:only-of-type {\n",
              "        vertical-align: middle;\n",
              "    }\n",
              "\n",
              "    .dataframe tbody tr th {\n",
              "        vertical-align: top;\n",
              "    }\n",
              "\n",
              "    .dataframe thead th {\n",
              "        text-align: right;\n",
              "    }\n",
              "</style>\n",
              "<table border=\"1\" class=\"dataframe\">\n",
              "  <thead>\n",
              "    <tr style=\"text-align: right;\">\n",
              "      <th></th>\n",
              "      <th>count</th>\n",
              "      <th>mean</th>\n",
              "      <th>std</th>\n",
              "      <th>min</th>\n",
              "      <th>25%</th>\n",
              "      <th>50%</th>\n",
              "      <th>75%</th>\n",
              "      <th>max</th>\n",
              "    </tr>\n",
              "    <tr>\n",
              "      <th>Churn</th>\n",
              "      <th></th>\n",
              "      <th></th>\n",
              "      <th></th>\n",
              "      <th></th>\n",
              "      <th></th>\n",
              "      <th></th>\n",
              "      <th></th>\n",
              "      <th></th>\n",
              "    </tr>\n",
              "  </thead>\n",
              "  <tbody>\n",
              "    <tr>\n",
              "      <th>False</th>\n",
              "      <td>2850.0</td>\n",
              "      <td>199.043298</td>\n",
              "      <td>50.292175</td>\n",
              "      <td>0.0</td>\n",
              "      <td>164.5</td>\n",
              "      <td>199.6</td>\n",
              "      <td>233.20</td>\n",
              "      <td>361.8</td>\n",
              "    </tr>\n",
              "    <tr>\n",
              "      <th>True</th>\n",
              "      <td>483.0</td>\n",
              "      <td>212.410145</td>\n",
              "      <td>51.728910</td>\n",
              "      <td>70.9</td>\n",
              "      <td>177.1</td>\n",
              "      <td>211.3</td>\n",
              "      <td>249.45</td>\n",
              "      <td>363.7</td>\n",
              "    </tr>\n",
              "  </tbody>\n",
              "</table>\n",
              "</div>"
            ],
            "text/plain": [
              "        count        mean        std   min    25%    50%     75%    max\n",
              "Churn                                                                  \n",
              "False  2850.0  199.043298  50.292175   0.0  164.5  199.6  233.20  361.8\n",
              "True    483.0  212.410145  51.728910  70.9  177.1  211.3  249.45  363.7"
            ]
          },
          "execution_count": 679,
          "metadata": {},
          "output_type": "execute_result"
        }
      ],
      "source": [
        "telecom.groupby(\"Churn\")[\"Total eve minutes\"].describe()"
      ]
    },
    {
      "cell_type": "code",
      "execution_count": null,
      "id": "f695a662",
      "metadata": {
        "id": "f695a662",
        "outputId": "0e3a692b-23ac-4179-ba5c-1919b074add9"
      },
      "outputs": [
        {
          "data": {
            "text/plain": [
              "<AxesSubplot:title={'center':'Total eve minutes'}, xlabel='Churn'>"
            ]
          },
          "execution_count": 680,
          "metadata": {},
          "output_type": "execute_result"
        },
        {
          "data": {
            "image/png": "[encoded data removed]",
            "text/plain": [
              "<Figure size 720x360 with 1 Axes>"
            ]
          },
          "metadata": {},
          "output_type": "display_data"
        }
      ],
      "source": [
        "telecom.boxplot(column='Total eve minutes', by='Churn',figsize=(10,5),fontsize=15)"
      ]
    },
    {
      "cell_type": "code",
      "execution_count": null,
      "id": "1adee1de",
      "metadata": {
        "id": "1adee1de",
        "outputId": "589ec047-4a9b-427d-df9d-6779e4bebcc0"
      },
      "outputs": [
        {
          "data": {
            "text/html": [
              "<div>\n",
              "<style scoped>\n",
              "    .dataframe tbody tr th:only-of-type {\n",
              "        vertical-align: middle;\n",
              "    }\n",
              "\n",
              "    .dataframe tbody tr th {\n",
              "        vertical-align: top;\n",
              "    }\n",
              "\n",
              "    .dataframe thead th {\n",
              "        text-align: right;\n",
              "    }\n",
              "</style>\n",
              "<table border=\"1\" class=\"dataframe\">\n",
              "  <thead>\n",
              "    <tr style=\"text-align: right;\">\n",
              "      <th></th>\n",
              "      <th>count</th>\n",
              "      <th>mean</th>\n",
              "      <th>std</th>\n",
              "      <th>min</th>\n",
              "      <th>25%</th>\n",
              "      <th>50%</th>\n",
              "      <th>75%</th>\n",
              "      <th>max</th>\n",
              "    </tr>\n",
              "    <tr>\n",
              "      <th>Churn</th>\n",
              "      <th></th>\n",
              "      <th></th>\n",
              "      <th></th>\n",
              "      <th></th>\n",
              "      <th></th>\n",
              "      <th></th>\n",
              "      <th></th>\n",
              "      <th></th>\n",
              "    </tr>\n",
              "  </thead>\n",
              "  <tbody>\n",
              "    <tr>\n",
              "      <th>False</th>\n",
              "      <td>2850.0</td>\n",
              "      <td>100.058246</td>\n",
              "      <td>19.506246</td>\n",
              "      <td>33.0</td>\n",
              "      <td>87.0</td>\n",
              "      <td>100.0</td>\n",
              "      <td>113.0</td>\n",
              "      <td>175.0</td>\n",
              "    </tr>\n",
              "    <tr>\n",
              "      <th>True</th>\n",
              "      <td>483.0</td>\n",
              "      <td>100.399586</td>\n",
              "      <td>19.950659</td>\n",
              "      <td>49.0</td>\n",
              "      <td>85.0</td>\n",
              "      <td>100.0</td>\n",
              "      <td>115.0</td>\n",
              "      <td>158.0</td>\n",
              "    </tr>\n",
              "  </tbody>\n",
              "</table>\n",
              "</div>"
            ],
            "text/plain": [
              "        count        mean        std   min   25%    50%    75%    max\n",
              "Churn                                                                \n",
              "False  2850.0  100.058246  19.506246  33.0  87.0  100.0  113.0  175.0\n",
              "True    483.0  100.399586  19.950659  49.0  85.0  100.0  115.0  158.0"
            ]
          },
          "execution_count": 681,
          "metadata": {},
          "output_type": "execute_result"
        }
      ],
      "source": [
        "telecom.groupby(\"Churn\")[\"Total night calls\"].describe()"
      ]
    },
    {
      "cell_type": "code",
      "execution_count": null,
      "id": "2957c7e7",
      "metadata": {
        "id": "2957c7e7",
        "outputId": "0b3abe5f-2293-439a-cb1c-ffdd276d7898"
      },
      "outputs": [
        {
          "data": {
            "text/html": [
              "<div>\n",
              "<style scoped>\n",
              "    .dataframe tbody tr th:only-of-type {\n",
              "        vertical-align: middle;\n",
              "    }\n",
              "\n",
              "    .dataframe tbody tr th {\n",
              "        vertical-align: top;\n",
              "    }\n",
              "\n",
              "    .dataframe thead th {\n",
              "        text-align: right;\n",
              "    }\n",
              "</style>\n",
              "<table border=\"1\" class=\"dataframe\">\n",
              "  <thead>\n",
              "    <tr style=\"text-align: right;\">\n",
              "      <th></th>\n",
              "      <th>count</th>\n",
              "      <th>mean</th>\n",
              "      <th>std</th>\n",
              "      <th>min</th>\n",
              "      <th>25%</th>\n",
              "      <th>50%</th>\n",
              "      <th>75%</th>\n",
              "      <th>max</th>\n",
              "    </tr>\n",
              "    <tr>\n",
              "      <th>Churn</th>\n",
              "      <th></th>\n",
              "      <th></th>\n",
              "      <th></th>\n",
              "      <th></th>\n",
              "      <th></th>\n",
              "      <th></th>\n",
              "      <th></th>\n",
              "      <th></th>\n",
              "    </tr>\n",
              "  </thead>\n",
              "  <tbody>\n",
              "    <tr>\n",
              "      <th>False</th>\n",
              "      <td>2850.0</td>\n",
              "      <td>200.133193</td>\n",
              "      <td>51.105032</td>\n",
              "      <td>23.2</td>\n",
              "      <td>165.90</td>\n",
              "      <td>200.25</td>\n",
              "      <td>234.90</td>\n",
              "      <td>395.0</td>\n",
              "    </tr>\n",
              "    <tr>\n",
              "      <th>True</th>\n",
              "      <td>483.0</td>\n",
              "      <td>205.231677</td>\n",
              "      <td>47.132825</td>\n",
              "      <td>47.4</td>\n",
              "      <td>171.25</td>\n",
              "      <td>204.80</td>\n",
              "      <td>239.85</td>\n",
              "      <td>354.9</td>\n",
              "    </tr>\n",
              "  </tbody>\n",
              "</table>\n",
              "</div>"
            ],
            "text/plain": [
              "        count        mean        std   min     25%     50%     75%    max\n",
              "Churn                                                                    \n",
              "False  2850.0  200.133193  51.105032  23.2  165.90  200.25  234.90  395.0\n",
              "True    483.0  205.231677  47.132825  47.4  171.25  204.80  239.85  354.9"
            ]
          },
          "execution_count": 682,
          "metadata": {},
          "output_type": "execute_result"
        }
      ],
      "source": [
        "telecom.groupby(\"Churn\")[\"Total night minutes\"].describe()"
      ]
    },
    {
      "cell_type": "code",
      "execution_count": null,
      "id": "4b85f1a4",
      "metadata": {
        "id": "4b85f1a4",
        "outputId": "8cd5c478-3038-4156-f91e-28ba2817f3f6"
      },
      "outputs": [
        {
          "data": {
            "text/plain": [
              "<AxesSubplot:title={'center':'Total night minutes'}, xlabel='Churn'>"
            ]
          },
          "execution_count": 683,
          "metadata": {},
          "output_type": "execute_result"
        },
        {
          "data": {
            "image/png": "[encoded data removed]",
            "text/plain": [
              "<Figure size 720x360 with 1 Axes>"
            ]
          },
          "metadata": {},
          "output_type": "display_data"
        }
      ],
      "source": [
        "telecom.boxplot(column='Total night minutes', by='Churn',figsize=(10,5),fontsize=15)"
      ]
    },
    {
      "cell_type": "markdown",
      "id": "44500dce",
      "metadata": {
        "id": "44500dce"
      },
      "source": [
        "###### Analysisng user behaviour wrt International plan"
      ]
    },
    {
      "cell_type": "code",
      "execution_count": null,
      "id": "78985b64",
      "metadata": {
        "id": "78985b64"
      },
      "outputs": [],
      "source": [
        "Intl_plan_users= telecom[telecom[\"International plan\"]=='Yes']"
      ]
    },
    {
      "cell_type": "code",
      "execution_count": null,
      "id": "d8ca3026",
      "metadata": {
        "id": "d8ca3026",
        "outputId": "1ea8a451-4416-4da5-83e1-157d19cf511d"
      },
      "outputs": [
        {
          "data": {
            "text/plain": [
              "Churn\n",
              "False    186\n",
              "True     137\n",
              "dtype: int64"
            ]
          },
          "execution_count": 685,
          "metadata": {},
          "output_type": "execute_result"
        }
      ],
      "source": [
        "Intl_plan_users.groupby(\"Churn\").size()"
      ]
    },
    {
      "cell_type": "code",
      "execution_count": null,
      "id": "d139fa03",
      "metadata": {
        "id": "d139fa03",
        "outputId": "3740d32a-097f-4ef4-cc7b-6dd51919e160"
      },
      "outputs": [
        {
          "data": {
            "text/plain": [
              "Text(0, 1.3, '% CHURN of customers who uses international plan')"
            ]
          },
          "execution_count": 717,
          "metadata": {},
          "output_type": "execute_result"
        },
        {
          "data": {
            "image/png": "[encoded data removed]",
            "text/plain": [
              "<Figure size 576x396 with 1 Axes>"
            ]
          },
          "metadata": {},
          "output_type": "display_data"
        }
      ],
      "source": [
        " plt.pie(a,labels= ['Customers Retained', 'Customers Churn'],autopct='%.2f%%',startangle=60)\n",
        "plt.text(x=0,y=1.3,s=\"% CHURN of customers who uses international plan\", fontweight='bold',fontsize=15,horizontalalignment='center',verticalalignment='top')"
      ]
    },
    {
      "cell_type": "code",
      "execution_count": null,
      "id": "72cc3e13",
      "metadata": {
        "id": "72cc3e13",
        "outputId": "b494222d-fcdf-4970-89b2-af4319d5c1db"
      },
      "outputs": [
        {
          "data": {
            "text/html": [
              "<div>\n",
              "<style scoped>\n",
              "    .dataframe tbody tr th:only-of-type {\n",
              "        vertical-align: middle;\n",
              "    }\n",
              "\n",
              "    .dataframe tbody tr th {\n",
              "        vertical-align: top;\n",
              "    }\n",
              "\n",
              "    .dataframe thead th {\n",
              "        text-align: right;\n",
              "    }\n",
              "</style>\n",
              "<table border=\"1\" class=\"dataframe\">\n",
              "  <thead>\n",
              "    <tr style=\"text-align: right;\">\n",
              "      <th></th>\n",
              "      <th>count</th>\n",
              "      <th>mean</th>\n",
              "      <th>std</th>\n",
              "      <th>min</th>\n",
              "      <th>25%</th>\n",
              "      <th>50%</th>\n",
              "      <th>75%</th>\n",
              "      <th>max</th>\n",
              "    </tr>\n",
              "    <tr>\n",
              "      <th>Churn</th>\n",
              "      <th></th>\n",
              "      <th></th>\n",
              "      <th></th>\n",
              "      <th></th>\n",
              "      <th></th>\n",
              "      <th></th>\n",
              "      <th></th>\n",
              "      <th></th>\n",
              "    </tr>\n",
              "  </thead>\n",
              "  <tbody>\n",
              "    <tr>\n",
              "      <th>False</th>\n",
              "      <td>186.0</td>\n",
              "      <td>9.777957</td>\n",
              "      <td>2.183748</td>\n",
              "      <td>1.3</td>\n",
              "      <td>8.4</td>\n",
              "      <td>10.1</td>\n",
              "      <td>11.3</td>\n",
              "      <td>13.0</td>\n",
              "    </tr>\n",
              "    <tr>\n",
              "      <th>True</th>\n",
              "      <td>137.0</td>\n",
              "      <td>11.782482</td>\n",
              "      <td>2.900707</td>\n",
              "      <td>4.1</td>\n",
              "      <td>9.7</td>\n",
              "      <td>11.7</td>\n",
              "      <td>13.8</td>\n",
              "      <td>20.0</td>\n",
              "    </tr>\n",
              "  </tbody>\n",
              "</table>\n",
              "</div>"
            ],
            "text/plain": [
              "       count       mean       std  min  25%   50%   75%   max\n",
              "Churn                                                        \n",
              "False  186.0   9.777957  2.183748  1.3  8.4  10.1  11.3  13.0\n",
              "True   137.0  11.782482  2.900707  4.1  9.7  11.7  13.8  20.0"
            ]
          },
          "execution_count": 687,
          "metadata": {},
          "output_type": "execute_result"
        }
      ],
      "source": [
        "Intl_plan_users.groupby(\"Churn\")[\"Total intl minutes\"].describe()"
      ]
    },
    {
      "cell_type": "code",
      "execution_count": null,
      "id": "9e9c0821",
      "metadata": {
        "id": "9e9c0821",
        "outputId": "bce20c90-3fd9-47a0-b416-468661916536"
      },
      "outputs": [
        {
          "data": {
            "text/html": [
              "<div>\n",
              "<style scoped>\n",
              "    .dataframe tbody tr th:only-of-type {\n",
              "        vertical-align: middle;\n",
              "    }\n",
              "\n",
              "    .dataframe tbody tr th {\n",
              "        vertical-align: top;\n",
              "    }\n",
              "\n",
              "    .dataframe thead th {\n",
              "        text-align: right;\n",
              "    }\n",
              "</style>\n",
              "<table border=\"1\" class=\"dataframe\">\n",
              "  <thead>\n",
              "    <tr style=\"text-align: right;\">\n",
              "      <th></th>\n",
              "      <th>count</th>\n",
              "      <th>mean</th>\n",
              "      <th>std</th>\n",
              "      <th>min</th>\n",
              "      <th>25%</th>\n",
              "      <th>50%</th>\n",
              "      <th>75%</th>\n",
              "      <th>max</th>\n",
              "    </tr>\n",
              "    <tr>\n",
              "      <th>Churn</th>\n",
              "      <th></th>\n",
              "      <th></th>\n",
              "      <th></th>\n",
              "      <th></th>\n",
              "      <th></th>\n",
              "      <th></th>\n",
              "      <th></th>\n",
              "      <th></th>\n",
              "    </tr>\n",
              "  </thead>\n",
              "  <tbody>\n",
              "    <tr>\n",
              "      <th>False</th>\n",
              "      <td>186.0</td>\n",
              "      <td>5.102151</td>\n",
              "      <td>2.248193</td>\n",
              "      <td>3.0</td>\n",
              "      <td>3.0</td>\n",
              "      <td>4.0</td>\n",
              "      <td>6.0</td>\n",
              "      <td>15.0</td>\n",
              "    </tr>\n",
              "    <tr>\n",
              "      <th>True</th>\n",
              "      <td>137.0</td>\n",
              "      <td>3.941606</td>\n",
              "      <td>2.952483</td>\n",
              "      <td>1.0</td>\n",
              "      <td>2.0</td>\n",
              "      <td>3.0</td>\n",
              "      <td>5.0</td>\n",
              "      <td>20.0</td>\n",
              "    </tr>\n",
              "  </tbody>\n",
              "</table>\n",
              "</div>"
            ],
            "text/plain": [
              "       count      mean       std  min  25%  50%  75%   max\n",
              "Churn                                                     \n",
              "False  186.0  5.102151  2.248193  3.0  3.0  4.0  6.0  15.0\n",
              "True   137.0  3.941606  2.952483  1.0  2.0  3.0  5.0  20.0"
            ]
          },
          "execution_count": 688,
          "metadata": {},
          "output_type": "execute_result"
        }
      ],
      "source": [
        "Intl_plan_users.groupby(\"Churn\")[\"Total intl calls\"].describe()"
      ]
    },
    {
      "cell_type": "code",
      "execution_count": null,
      "id": "be9d7c92",
      "metadata": {
        "id": "be9d7c92",
        "outputId": "35bb0741-6207-4a1f-d480-2c068ed445ec"
      },
      "outputs": [
        {
          "data": {
            "text/plain": [
              "<AxesSubplot:title={'center':'Total intl minutes'}, xlabel='Churn'>"
            ]
          },
          "execution_count": 689,
          "metadata": {},
          "output_type": "execute_result"
        },
        {
          "data": {
            "image/png": "[encoded data removed]",
            "text/plain": [
              "<Figure size 720x360 with 1 Axes>"
            ]
          },
          "metadata": {},
          "output_type": "display_data"
        }
      ],
      "source": [
        "Intl_plan_users.boxplot(column='Total intl minutes', by='Churn',figsize=(10,5),fontsize=15,color='black')"
      ]
    },
    {
      "cell_type": "code",
      "execution_count": null,
      "id": "8ab898e6",
      "metadata": {
        "id": "8ab898e6",
        "outputId": "c18a5b6d-11fd-4044-9903-545a18f66992"
      },
      "outputs": [
        {
          "data": {
            "text/plain": [
              "<seaborn.axisgrid.FacetGrid at 0x22bfadb4e20>"
            ]
          },
          "execution_count": 690,
          "metadata": {},
          "output_type": "execute_result"
        },
        {
          "data": {
            "image/png": "[encoded data removed]",
            "text/plain": [
              "<Figure size 720x360 with 2 Axes>"
            ]
          },
          "metadata": {},
          "output_type": "display_data"
        }
      ],
      "source": [
        "sns.displot(data=Intl_plan_users,x=\"Total intl minutes\",col=\"Churn\",kind=\"kde\")"
      ]
    },
    {
      "cell_type": "code",
      "execution_count": null,
      "id": "a20becb1",
      "metadata": {
        "id": "a20becb1",
        "outputId": "e24900f6-0399-43c3-b946-c5657266d88d"
      },
      "outputs": [
        {
          "data": {
            "text/html": [
              "<div>\n",
              "<style scoped>\n",
              "    .dataframe tbody tr th:only-of-type {\n",
              "        vertical-align: middle;\n",
              "    }\n",
              "\n",
              "    .dataframe tbody tr th {\n",
              "        vertical-align: top;\n",
              "    }\n",
              "\n",
              "    .dataframe thead th {\n",
              "        text-align: right;\n",
              "    }\n",
              "</style>\n",
              "<table border=\"1\" class=\"dataframe\">\n",
              "  <thead>\n",
              "    <tr style=\"text-align: right;\">\n",
              "      <th></th>\n",
              "      <th>count</th>\n",
              "      <th>mean</th>\n",
              "      <th>std</th>\n",
              "      <th>min</th>\n",
              "      <th>25%</th>\n",
              "      <th>50%</th>\n",
              "      <th>75%</th>\n",
              "      <th>max</th>\n",
              "    </tr>\n",
              "    <tr>\n",
              "      <th>Churn</th>\n",
              "      <th></th>\n",
              "      <th></th>\n",
              "      <th></th>\n",
              "      <th></th>\n",
              "      <th></th>\n",
              "      <th></th>\n",
              "      <th></th>\n",
              "      <th></th>\n",
              "    </tr>\n",
              "  </thead>\n",
              "  <tbody>\n",
              "    <tr>\n",
              "      <th>False</th>\n",
              "      <td>186.0</td>\n",
              "      <td>2.640538</td>\n",
              "      <td>0.589324</td>\n",
              "      <td>0.35</td>\n",
              "      <td>2.27</td>\n",
              "      <td>2.73</td>\n",
              "      <td>3.05</td>\n",
              "      <td>3.51</td>\n",
              "    </tr>\n",
              "    <tr>\n",
              "      <th>True</th>\n",
              "      <td>137.0</td>\n",
              "      <td>3.181314</td>\n",
              "      <td>0.783110</td>\n",
              "      <td>1.11</td>\n",
              "      <td>2.62</td>\n",
              "      <td>3.16</td>\n",
              "      <td>3.73</td>\n",
              "      <td>5.40</td>\n",
              "    </tr>\n",
              "  </tbody>\n",
              "</table>\n",
              "</div>"
            ],
            "text/plain": [
              "       count      mean       std   min   25%   50%   75%   max\n",
              "Churn                                                         \n",
              "False  186.0  2.640538  0.589324  0.35  2.27  2.73  3.05  3.51\n",
              "True   137.0  3.181314  0.783110  1.11  2.62  3.16  3.73  5.40"
            ]
          },
          "execution_count": 691,
          "metadata": {},
          "output_type": "execute_result"
        }
      ],
      "source": [
        "Intl_plan_users.groupby(\"Churn\")[\"Total intl charge\"].describe()"
      ]
    },
    {
      "cell_type": "markdown",
      "id": "a579746c",
      "metadata": {
        "id": "a579746c"
      },
      "source": [
        "###### AREA WISE ANALYSIS"
      ]
    },
    {
      "cell_type": "code",
      "execution_count": null,
      "id": "0b506bb7",
      "metadata": {
        "id": "0b506bb7",
        "outputId": "edfd5cda-9e80-4695-bad8-7d1b71883ab0"
      },
      "outputs": [
        {
          "data": {
            "text/plain": [
              "array(['KS', 'OH', 'NJ', 'OK', 'AL', 'MA', 'MO', 'LA', 'WV', 'IN', 'RI',\n",
              "       'IA', 'MT', 'NY', 'ID', 'VT', 'VA', 'TX', 'FL', 'CO', 'AZ', 'SC',\n",
              "       'NE', 'WY', 'HI', 'IL', 'NH', 'GA', 'AK', 'MD', 'AR', 'WI', 'OR',\n",
              "       'MI', 'DE', 'UT', 'CA', 'MN', 'SD', 'NC', 'WA', 'NM', 'NV', 'DC',\n",
              "       'KY', 'ME', 'MS', 'TN', 'PA', 'CT', 'ND'], dtype=object)"
            ]
          },
          "execution_count": 692,
          "metadata": {},
          "output_type": "execute_result"
        }
      ],
      "source": [
        "telecom[\"State\"].unique()    #states"
      ]
    },
    {
      "cell_type": "code",
      "execution_count": null,
      "id": "947cddbf",
      "metadata": {
        "id": "947cddbf"
      },
      "outputs": [],
      "source": [
        "Statewise_churn_count=Churn.groupby(\"State\").size()    #Statewise count of churned customers"
      ]
    },
    {
      "cell_type": "code",
      "execution_count": null,
      "id": "82ea4f7b",
      "metadata": {
        "id": "82ea4f7b"
      },
      "outputs": [],
      "source": [
        "Statewise_totalcount=telecom.groupby(\"State\").size()   #Statewise  total count of customers"
      ]
    },
    {
      "cell_type": "code",
      "execution_count": null,
      "id": "f44b41f6",
      "metadata": {
        "id": "f44b41f6"
      },
      "outputs": [],
      "source": [
        "Statewise_churn_prcnt=Statewise_churn_count*100/Statewise_totalcount    # Statewise Churn %"
      ]
    },
    {
      "cell_type": "code",
      "execution_count": null,
      "id": "16ac4b5e",
      "metadata": {
        "id": "16ac4b5e"
      },
      "outputs": [],
      "source": [
        "# Making DataFrame of statewise churn %\n",
        "\n",
        "Churn_prcnt_statewise=pd.DataFrame(Statewise_churn_prcnt)"
      ]
    },
    {
      "cell_type": "code",
      "execution_count": null,
      "id": "83f0584d",
      "metadata": {
        "id": "83f0584d"
      },
      "outputs": [],
      "source": [
        "Churn_prcnt_statewise.rename(columns={ 0 : \"Prcnt_churn\"},inplace=True)"
      ]
    },
    {
      "cell_type": "code",
      "execution_count": null,
      "id": "9abb24f8",
      "metadata": {
        "id": "9abb24f8"
      },
      "outputs": [],
      "source": [
        "Churn_prcnt_statewise.sort_values(\"Prcnt_churn\",inplace=True,ascending=False) \n",
        "Churn_prcnt_statewise10=Churn_prcnt_statewise.head(10)"
      ]
    },
    {
      "cell_type": "code",
      "execution_count": null,
      "id": "42319044",
      "metadata": {
        "id": "42319044",
        "outputId": "62089726-6dd8-453e-afff-043bd247dccd"
      },
      "outputs": [
        {
          "data": {
            "text/plain": [
              "Text(0, 0.5, '% Churn')"
            ]
          },
          "execution_count": 699,
          "metadata": {},
          "output_type": "execute_result"
        },
        {
          "data": {
            "image/png": "[encoded data removed]",
            "text/plain": [
              "<Figure size 720x360 with 1 Axes>"
            ]
          },
          "metadata": {},
          "output_type": "display_data"
        }
      ],
      "source": [
        "# Bar plot to display Statewise churn % in descending order\n",
        "\n",
        "Churn_prcnt_statewise10.plot(use_index=True,y='Prcnt_churn',kind='bar',figsize=(10,5),legend=False,fontsize=12)\n",
        "plt.xlabel('States',fontsize=15)\n",
        "plt.ylabel('% Churn',fontsize=15)\n"
      ]
    },
    {
      "cell_type": "markdown",
      "source": [
        "ANALYSIS BY CUSTOMER SERVICE "
      ],
      "metadata": {
        "id": "YlIU_Mn63ves"
      },
      "id": "YlIU_Mn63ves"
    },
    {
      "cell_type": "code",
      "execution_count": null,
      "id": "30735183",
      "metadata": {
        "id": "30735183",
        "outputId": "628f7a68-7413-4f55-bf9d-2f00be0edf7f"
      },
      "outputs": [
        {
          "data": {
            "text/html": [
              "<div>\n",
              "<style scoped>\n",
              "    .dataframe tbody tr th:only-of-type {\n",
              "        vertical-align: middle;\n",
              "    }\n",
              "\n",
              "    .dataframe tbody tr th {\n",
              "        vertical-align: top;\n",
              "    }\n",
              "\n",
              "    .dataframe thead th {\n",
              "        text-align: right;\n",
              "    }\n",
              "</style>\n",
              "<table border=\"1\" class=\"dataframe\">\n",
              "  <thead>\n",
              "    <tr style=\"text-align: right;\">\n",
              "      <th></th>\n",
              "      <th>count</th>\n",
              "      <th>mean</th>\n",
              "      <th>std</th>\n",
              "      <th>min</th>\n",
              "      <th>25%</th>\n",
              "      <th>50%</th>\n",
              "      <th>75%</th>\n",
              "      <th>max</th>\n",
              "    </tr>\n",
              "    <tr>\n",
              "      <th>Churn</th>\n",
              "      <th></th>\n",
              "      <th></th>\n",
              "      <th></th>\n",
              "      <th></th>\n",
              "      <th></th>\n",
              "      <th></th>\n",
              "      <th></th>\n",
              "      <th></th>\n",
              "    </tr>\n",
              "  </thead>\n",
              "  <tbody>\n",
              "    <tr>\n",
              "      <th>False</th>\n",
              "      <td>2850.0</td>\n",
              "      <td>1.449825</td>\n",
              "      <td>1.163883</td>\n",
              "      <td>0.0</td>\n",
              "      <td>1.0</td>\n",
              "      <td>1.0</td>\n",
              "      <td>2.0</td>\n",
              "      <td>8.0</td>\n",
              "    </tr>\n",
              "    <tr>\n",
              "      <th>True</th>\n",
              "      <td>483.0</td>\n",
              "      <td>2.229814</td>\n",
              "      <td>1.853275</td>\n",
              "      <td>0.0</td>\n",
              "      <td>1.0</td>\n",
              "      <td>2.0</td>\n",
              "      <td>4.0</td>\n",
              "      <td>9.0</td>\n",
              "    </tr>\n",
              "  </tbody>\n",
              "</table>\n",
              "</div>"
            ],
            "text/plain": [
              "        count      mean       std  min  25%  50%  75%  max\n",
              "Churn                                                     \n",
              "False  2850.0  1.449825  1.163883  0.0  1.0  1.0  2.0  8.0\n",
              "True    483.0  2.229814  1.853275  0.0  1.0  2.0  4.0  9.0"
            ]
          },
          "execution_count": 700,
          "metadata": {},
          "output_type": "execute_result"
        }
      ],
      "source": [
        "telecom.groupby(['Churn'])['Customer service calls'].describe()"
      ]
    },
    {
      "cell_type": "code",
      "execution_count": null,
      "id": "58fa3e36",
      "metadata": {
        "id": "58fa3e36",
        "outputId": "d6742746-0522-4af9-8026-a43ebc113017"
      },
      "outputs": [
        {
          "data": {
            "text/plain": [
              "State  Churn\n",
              "AK     False    1.448980\n",
              "       True     3.333333\n",
              "AL     False    1.402778\n",
              "       True     3.000000\n",
              "AR     False    1.522727\n",
              "                  ...   \n",
              "WI     True     1.857143\n",
              "WV     False    1.364583\n",
              "       True     2.800000\n",
              "WY     False    1.382353\n",
              "       True     1.888889\n",
              "Name: Customer service calls, Length: 102, dtype: float64"
            ]
          },
          "execution_count": 701,
          "metadata": {},
          "output_type": "execute_result"
        }
      ],
      "source": [
        "# MEAN OF CUSTOMER SERVICE CALLS STATEWISE\n",
        "\n",
        "mean_cc_statewise = telecom.groupby(['State','Churn'])['Customer service calls'].mean()\n",
        "mean_cc_statewise"
      ]
    },
    {
      "cell_type": "code",
      "execution_count": null,
      "id": "c1ff5df4",
      "metadata": {
        "id": "c1ff5df4"
      },
      "outputs": [],
      "source": [
        "mean_cc_statewise_df = pd.DataFrame(mean_cc_statewise) "
      ]
    },
    {
      "cell_type": "code",
      "execution_count": null,
      "id": "da5b8209",
      "metadata": {
        "id": "da5b8209"
      },
      "outputs": [],
      "source": [
        "mean_cc_statewise_df.reset_index(inplace=True)"
      ]
    },
    {
      "cell_type": "markdown",
      "source": [
        "Converting data in required format to plot"
      ],
      "metadata": {
        "id": "VYYuUp-M46B7"
      },
      "id": "VYYuUp-M46B7"
    },
    {
      "cell_type": "code",
      "execution_count": null,
      "id": "bda5553e",
      "metadata": {
        "id": "bda5553e"
      },
      "outputs": [],
      "source": [
        "# VALUES OF ONLY NON-CHURNED CUSTOMER\n",
        "\n",
        "mean_false=mean_cc_statewise_df[mean_cc_statewise_df[\"Churn\"]==False]"
      ]
    },
    {
      "cell_type": "code",
      "execution_count": null,
      "id": "35554bb5",
      "metadata": {
        "id": "35554bb5"
      },
      "outputs": [],
      "source": [
        "# VALUES OF ONLY CHURNED CUSTOMER\n",
        "\n",
        "mean_True=mean_cc_statewise_df[mean_cc_statewise_df[\"Churn\"]==True]"
      ]
    },
    {
      "cell_type": "code",
      "execution_count": null,
      "id": "38d025f8",
      "metadata": {
        "id": "38d025f8"
      },
      "outputs": [],
      "source": [
        "#MERGING CHURNED & NON-CHURNED MEAN OF CUSTOMER SERVICE CALLS STATEWISE\n",
        "\n",
        "statewise_calls_mean = pd.merge(mean_false,mean_True,on='State',how='outer')\n",
        "statewise_calls_mean.drop(['Churn_x','Churn_y'],inplace=True,axis=1)"
      ]
    },
    {
      "cell_type": "code",
      "execution_count": null,
      "id": "990a29fb",
      "metadata": {
        "id": "990a29fb"
      },
      "outputs": [],
      "source": [
        "statewise_calls_mean.rename(columns={\"Customer service calls_x\":\"Mean_False\",\"Customer service calls_y\":\"Mean_True\"},inplace=True)\n",
        "statewise_calls_mean.sort_values(\"Mean_True\",inplace=True,ascending=False) \n",
        "\n",
        "#ROUND TO 2 DECIMAL PLACES\n",
        "statewise_calls_mean.Mean_False=statewise_calls_mean.Mean_False.round(2)    \n",
        "statewise_calls_mean.Mean_True=statewise_calls_mean.Mean_True.round(2)\n",
        "\n",
        "#Top10 states with max customer service calls made by churned customer\n",
        "statewise_calls_mean10=statewise_calls_mean.head(10)    \n",
        "statewise_calls_mean10"
      ]
    },
    {
      "cell_type": "code",
      "execution_count": null,
      "id": "773035ce",
      "metadata": {
        "id": "773035ce",
        "outputId": "c4ca6219-a49f-45e6-cacc-02e90996b5b1"
      },
      "outputs": [
        {
          "data": {
            "image/png": "[encoded data removed]",
            "text/plain": [
              "<Figure size 720x360 with 1 Axes>"
            ]
          },
          "metadata": {},
          "output_type": "display_data"
        }
      ],
      "source": [
        "\n",
        "ax=statewise_calls_mean10.plot.bar(x='State',stacked=True,figsize=(10,5),fontsize=12)\n",
        "for rect in ax.patches:\n",
        "    # Find where everything is located\n",
        "    height = rect.get_height()\n",
        "    width = rect.get_width()\n",
        "    x = rect.get_x()\n",
        "    y = rect.get_y()\n",
        "    \n",
        "    # The height of the bar is the data value and can be used as the label\n",
        "    label_text = f'{height:.2f}' #to format decimal values\n",
        "    \n",
        "    # ax.text(x, y, text)\n",
        "    label_x = x + width / 2\n",
        "    label_y = y + height / 2\n",
        "\n",
        "    # plot only when height is greater than specified value\n",
        "    if width > 0:\n",
        "        ax.text(label_x, label_y, label_text, ha='center', va='center', fontsize=12,color='white',fontweight='bold')"
      ]
    },
    {
      "cell_type": "code",
      "source": [
        ""
      ],
      "metadata": {
        "id": "OyASnSOe3PxX"
      },
      "id": "OyASnSOe3PxX",
      "execution_count": null,
      "outputs": []
    }
  ],
  "metadata": {
    "kernelspec": {
      "display_name": "Python 3 (ipykernel)",
      "language": "python",
      "name": "python3"
    },
    "language_info": {
      "codemirror_mode": {
        "name": "ipython",
        "version": 3
      },
      "file_extension": ".py",
      "mimetype": "text/x-python",
      "name": "python",
      "nbconvert_exporter": "python",
      "pygments_lexer": "ipython3",
      "version": "3.9.7"
    },
    "colab": {
      "name": "Telecom Churn Analysis.ipynb",
      "provenance": [],
      "collapsed_sections": [],
      "include_colab_link": true
    }
  },
  "nbformat": 4,
  "nbformat_minor": 5
}